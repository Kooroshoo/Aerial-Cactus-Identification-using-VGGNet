{
 "cells": [
  {
   "cell_type": "code",
   "execution_count": 7,
   "metadata": {},
   "outputs": [],
   "source": [
    "import cv2\n",
    "import pandas as pd\n",
    "import numpy as np\n",
    "from sklearn.model_selection import train_test_split\n",
    "import matplotlib.pyplot as plt\n",
    "import json\n",
    "import os\n",
    "from tqdm import tqdm, tqdm_notebook\n",
    "from keras.models import Sequential\n",
    "from keras.layers import Activation, Dropout, Flatten, Dense\n",
    "from keras.applications import VGG16\n",
    "from keras.optimizers import Adam"
   ]
  },
  {
   "cell_type": "code",
   "execution_count": 8,
   "metadata": {},
   "outputs": [
    {
     "data": {
      "text/html": [
       "<div>\n",
       "<style scoped>\n",
       "    .dataframe tbody tr th:only-of-type {\n",
       "        vertical-align: middle;\n",
       "    }\n",
       "\n",
       "    .dataframe tbody tr th {\n",
       "        vertical-align: top;\n",
       "    }\n",
       "\n",
       "    .dataframe thead th {\n",
       "        text-align: right;\n",
       "    }\n",
       "</style>\n",
       "<table border=\"1\" class=\"dataframe\">\n",
       "  <thead>\n",
       "    <tr style=\"text-align: right;\">\n",
       "      <th></th>\n",
       "      <th>id</th>\n",
       "      <th>has_cactus</th>\n",
       "    </tr>\n",
       "  </thead>\n",
       "  <tbody>\n",
       "    <tr>\n",
       "      <th>0</th>\n",
       "      <td>0004be2cfeaba1c0361d39e2b000257b.jpg</td>\n",
       "      <td>1</td>\n",
       "    </tr>\n",
       "    <tr>\n",
       "      <th>1</th>\n",
       "      <td>000c8a36845c0208e833c79c1bffedd1.jpg</td>\n",
       "      <td>1</td>\n",
       "    </tr>\n",
       "    <tr>\n",
       "      <th>2</th>\n",
       "      <td>000d1e9a533f62e55c289303b072733d.jpg</td>\n",
       "      <td>1</td>\n",
       "    </tr>\n",
       "    <tr>\n",
       "      <th>3</th>\n",
       "      <td>0011485b40695e9138e92d0b3fb55128.jpg</td>\n",
       "      <td>1</td>\n",
       "    </tr>\n",
       "    <tr>\n",
       "      <th>4</th>\n",
       "      <td>0014d7a11e90b62848904c1418fc8cf2.jpg</td>\n",
       "      <td>1</td>\n",
       "    </tr>\n",
       "  </tbody>\n",
       "</table>\n",
       "</div>"
      ],
      "text/plain": [
       "                                     id  has_cactus\n",
       "0  0004be2cfeaba1c0361d39e2b000257b.jpg           1\n",
       "1  000c8a36845c0208e833c79c1bffedd1.jpg           1\n",
       "2  000d1e9a533f62e55c289303b072733d.jpg           1\n",
       "3  0011485b40695e9138e92d0b3fb55128.jpg           1\n",
       "4  0014d7a11e90b62848904c1418fc8cf2.jpg           1"
      ]
     },
     "execution_count": 8,
     "metadata": {},
     "output_type": "execute_result"
    }
   ],
   "source": [
    "train_dir = \"./input/train/\"\n",
    "train_df = pd.read_csv('./input/train.csv')\n",
    "train_df.head()"
   ]
  },
  {
   "cell_type": "code",
   "execution_count": 9,
   "metadata": {},
   "outputs": [],
   "source": [
    "# train_samples, validation_samples = train_test_split(Image_List, test_size=0.2)"
   ]
  },
  {
   "cell_type": "code",
   "execution_count": 10,
   "metadata": {},
   "outputs": [
    {
     "data": {
      "text/plain": [
       "<matplotlib.image.AxesImage at 0x7efd2c7ffba8>"
      ]
     },
     "execution_count": 10,
     "metadata": {},
     "output_type": "execute_result"
    },
    {
     "data": {
      "image/png": "[encoded data removed]",
      "text/plain": [
       "<Figure size 432x288 with 1 Axes>"
      ]
     },
     "metadata": {
      "needs_background": "light"
     },
     "output_type": "display_data"
    }
   ],
   "source": [
    "im = cv2.imread(\"./input/train/01e30c0ba6e91343a12d2126fcafc0dd.jpg\")\n",
    "plt.imshow(im)"
   ]
  },
  {
   "cell_type": "code",
   "execution_count": 11,
   "metadata": {},
   "outputs": [
    {
     "name": "stdout",
     "output_type": "stream",
     "text": [
      "WARNING:tensorflow:From /home/nagesh/anaconda3/lib/python3.7/site-packages/tensorflow/python/framework/op_def_library.py:263: colocate_with (from tensorflow.python.framework.ops) is deprecated and will be removed in a future version.\n",
      "Instructions for updating:\n",
      "Colocations handled automatically by placer.\n"
     ]
    }
   ],
   "source": [
    "vgg16_net = VGG16(weights='imagenet', \n",
    "                  include_top=False, \n",
    "                  input_shape=(32, 32, 3))"
   ]
  },
  {
   "cell_type": "code",
   "execution_count": 12,
   "metadata": {},
   "outputs": [
    {
     "name": "stdout",
     "output_type": "stream",
     "text": [
      "_________________________________________________________________\n",
      "Layer (type)                 Output Shape              Param #   \n",
      "=================================================================\n",
      "input_1 (InputLayer)         (None, 32, 32, 3)         0         \n",
      "_________________________________________________________________\n",
      "block1_conv1 (Conv2D)        (None, 32, 32, 64)        1792      \n",
      "_________________________________________________________________\n",
      "block1_conv2 (Conv2D)        (None, 32, 32, 64)        36928     \n",
      "_________________________________________________________________\n",
      "block1_pool (MaxPooling2D)   (None, 16, 16, 64)        0         \n",
      "_________________________________________________________________\n",
      "block2_conv1 (Conv2D)        (None, 16, 16, 128)       73856     \n",
      "_________________________________________________________________\n",
      "block2_conv2 (Conv2D)        (None, 16, 16, 128)       147584    \n",
      "_________________________________________________________________\n",
      "block2_pool (MaxPooling2D)   (None, 8, 8, 128)         0         \n",
      "_________________________________________________________________\n",
      "block3_conv1 (Conv2D)        (None, 8, 8, 256)         295168    \n",
      "_________________________________________________________________\n",
      "block3_conv2 (Conv2D)        (None, 8, 8, 256)         590080    \n",
      "_________________________________________________________________\n",
      "block3_conv3 (Conv2D)        (None, 8, 8, 256)         590080    \n",
      "_________________________________________________________________\n",
      "block3_pool (MaxPooling2D)   (None, 4, 4, 256)         0         \n",
      "_________________________________________________________________\n",
      "block4_conv1 (Conv2D)        (None, 4, 4, 512)         1180160   \n",
      "_________________________________________________________________\n",
      "block4_conv2 (Conv2D)        (None, 4, 4, 512)         2359808   \n",
      "_________________________________________________________________\n",
      "block4_conv3 (Conv2D)        (None, 4, 4, 512)         2359808   \n",
      "_________________________________________________________________\n",
      "block4_pool (MaxPooling2D)   (None, 2, 2, 512)         0         \n",
      "_________________________________________________________________\n",
      "block5_conv1 (Conv2D)        (None, 2, 2, 512)         2359808   \n",
      "_________________________________________________________________\n",
      "block5_conv2 (Conv2D)        (None, 2, 2, 512)         2359808   \n",
      "_________________________________________________________________\n",
      "block5_conv3 (Conv2D)        (None, 2, 2, 512)         2359808   \n",
      "_________________________________________________________________\n",
      "block5_pool (MaxPooling2D)   (None, 1, 1, 512)         0         \n",
      "=================================================================\n",
      "Total params: 14,714,688\n",
      "Trainable params: 0\n",
      "Non-trainable params: 14,714,688\n",
      "_________________________________________________________________\n"
     ]
    }
   ],
   "source": [
    "vgg16_net.trainable = False\n",
    "vgg16_net.summary()\n",
    "\n",
    "# Freeze the layers except the last 4 layers\n",
    "# for layer in vgg16_net.layers[7:]:\n",
    "#     layer.trainable = False\n",
    "    \n",
    "# Check the trainable status of the individual layers\n",
    "# for layer in vgg16_net.layers:\n",
    "#     print(layer, layer.trainable)"
   ]
  },
  {
   "cell_type": "code",
   "execution_count": 13,
   "metadata": {},
   "outputs": [
    {
     "name": "stdout",
     "output_type": "stream",
     "text": [
      "WARNING:tensorflow:From /home/nagesh/anaconda3/lib/python3.7/site-packages/keras/backend/tensorflow_backend.py:3445: calling dropout (from tensorflow.python.ops.nn_ops) with keep_prob is deprecated and will be removed in a future version.\n",
      "Instructions for updating:\n",
      "Please use `rate` instead of `keep_prob`. Rate should be set to `rate = 1 - keep_prob`.\n"
     ]
    }
   ],
   "source": [
    "model = Sequential()\n",
    "model.add(vgg16_net)\n",
    "model.add(Flatten())\n",
    "model.add(Dense(256))\n",
    "model.add(Activation('relu'))\n",
    "model.add(Dropout(0.5))\n",
    "model.add(Dense(1))\n",
    "model.add(Activation('sigmoid'))\n",
    "model.compile(loss='binary_crossentropy',\n",
    "              optimizer=Adam(lr=1e-4), \n",
    "              metrics=['accuracy'])"
   ]
  },
  {
   "cell_type": "code",
   "execution_count": 14,
   "metadata": {},
   "outputs": [
    {
     "data": {
      "application/vnd.jupyter.widget-view+json": {
       "model_id": "8f83a9b9eca349abb0e718b414245321",
       "version_major": 2,
       "version_minor": 0
      },
      "text/plain": [
       "HBox(children=(IntProgress(value=0, max=17500), HTML(value='')))"
      ]
     },
     "metadata": {},
     "output_type": "display_data"
    },
    {
     "name": "stdout",
     "output_type": "stream",
     "text": [
      "\n"
     ]
    }
   ],
   "source": [
    "X_tr = []\n",
    "Y_tr = []\n",
    "imges = train_df['id'].values\n",
    "for img_id in tqdm_notebook(imges):\n",
    "    X_tr.append(cv2.imread(train_dir + img_id))    \n",
    "    Y_tr.append(train_df[train_df['id'] == img_id]['has_cactus'].values[0])  \n",
    "X_tr = np.asarray(X_tr)\n",
    "X_tr = X_tr.astype('float32')\n",
    "X_tr /= 255\n",
    "Y_tr = np.asarray(Y_tr)"
   ]
  },
  {
   "cell_type": "code",
   "execution_count": 15,
   "metadata": {},
   "outputs": [],
   "source": [
    "batch_size = 32\n",
    "nb_epoch = 25"
   ]
  },
  {
   "cell_type": "code",
   "execution_count": 16,
   "metadata": {},
   "outputs": [
    {
     "name": "stdout",
     "output_type": "stream",
     "text": [
      "WARNING:tensorflow:From /home/nagesh/anaconda3/lib/python3.7/site-packages/tensorflow/python/ops/math_ops.py:3066: to_int32 (from tensorflow.python.ops.math_ops) is deprecated and will be removed in a future version.\n",
      "Instructions for updating:\n",
      "Use tf.cast instead.\n",
      "Train on 15750 samples, validate on 1750 samples\n",
      "Epoch 1/25\n",
      " - 97s - loss: 0.3567 - acc: 0.8386 - val_loss: 0.2077 - val_acc: 0.9406\n",
      "Epoch 2/25\n",
      " - 99s - loss: 0.1920 - acc: 0.9327 - val_loss: 0.1518 - val_acc: 0.9537\n",
      "Epoch 3/25\n",
      " - 98s - loss: 0.1527 - acc: 0.9450 - val_loss: 0.1301 - val_acc: 0.9554\n",
      "Epoch 4/25\n",
      " - 99s - loss: 0.1357 - acc: 0.9512 - val_loss: 0.1196 - val_acc: 0.9617\n",
      "Epoch 5/25\n",
      " - 99s - loss: 0.1233 - acc: 0.9547 - val_loss: 0.1137 - val_acc: 0.9617\n",
      "Epoch 6/25\n",
      " - 99s - loss: 0.1164 - acc: 0.9571 - val_loss: 0.1037 - val_acc: 0.9600\n",
      "Epoch 7/25\n",
      " - 99s - loss: 0.1098 - acc: 0.9589 - val_loss: 0.1030 - val_acc: 0.9640\n",
      "Epoch 8/25\n",
      " - 99s - loss: 0.1039 - acc: 0.9617 - val_loss: 0.0955 - val_acc: 0.9629\n",
      "Epoch 9/25\n",
      " - 99s - loss: 0.1010 - acc: 0.9634 - val_loss: 0.0950 - val_acc: 0.9657\n",
      "Epoch 10/25\n",
      " - 99s - loss: 0.0966 - acc: 0.9637 - val_loss: 0.0895 - val_acc: 0.9657\n",
      "Epoch 11/25\n",
      " - 98s - loss: 0.0937 - acc: 0.9657 - val_loss: 0.0869 - val_acc: 0.9674\n",
      "Epoch 12/25\n",
      " - 99s - loss: 0.0912 - acc: 0.9665 - val_loss: 0.0879 - val_acc: 0.9669\n",
      "Epoch 13/25\n",
      " - 98s - loss: 0.0890 - acc: 0.9671 - val_loss: 0.0830 - val_acc: 0.9697\n",
      "Epoch 14/25\n",
      " - 98s - loss: 0.0865 - acc: 0.9682 - val_loss: 0.0811 - val_acc: 0.9674\n",
      "Epoch 15/25\n",
      " - 98s - loss: 0.0852 - acc: 0.9683 - val_loss: 0.0804 - val_acc: 0.9714\n",
      "Epoch 16/25\n",
      " - 98s - loss: 0.0831 - acc: 0.9688 - val_loss: 0.0792 - val_acc: 0.9726\n",
      "Epoch 17/25\n",
      " - 101s - loss: 0.0814 - acc: 0.9702 - val_loss: 0.0772 - val_acc: 0.9703\n",
      "Epoch 18/25\n",
      " - 100s - loss: 0.0803 - acc: 0.9699 - val_loss: 0.0763 - val_acc: 0.9714\n",
      "Epoch 19/25\n",
      " - 99s - loss: 0.0774 - acc: 0.9716 - val_loss: 0.0766 - val_acc: 0.9697\n",
      "Epoch 20/25\n",
      " - 99s - loss: 0.0773 - acc: 0.9716 - val_loss: 0.0749 - val_acc: 0.9709\n",
      "Epoch 21/25\n",
      " - 99s - loss: 0.0762 - acc: 0.9724 - val_loss: 0.0743 - val_acc: 0.9726\n",
      "Epoch 22/25\n",
      " - 99s - loss: 0.0747 - acc: 0.9732 - val_loss: 0.0745 - val_acc: 0.9714\n",
      "Epoch 23/25\n",
      " - 99s - loss: 0.0724 - acc: 0.9735 - val_loss: 0.0750 - val_acc: 0.9737\n",
      "Epoch 24/25\n",
      " - 99s - loss: 0.0729 - acc: 0.9729 - val_loss: 0.0727 - val_acc: 0.9714\n",
      "Epoch 25/25\n",
      " - 99s - loss: 0.0706 - acc: 0.9739 - val_loss: 0.0737 - val_acc: 0.9720\n",
      "CPU times: user 2h 33min 58s, sys: 27.5 s, total: 2h 34min 25s\n",
      "Wall time: 41min 10s\n"
     ]
    }
   ],
   "source": [
    "%%time\n",
    "# Train model\n",
    "history = model.fit(X_tr, Y_tr,\n",
    "              batch_size=batch_size,\n",
    "              epochs=nb_epoch,\n",
    "              validation_split=0.1,\n",
    "              shuffle=True,\n",
    "              verbose=2)"
   ]
  },
  {
   "cell_type": "code",
   "execution_count": 18,
   "metadata": {},
   "outputs": [
    {
     "data": {
      "text/plain": [
       "<matplotlib.axes._subplots.AxesSubplot at 0x7efd2006fe10>"
      ]
     },
     "execution_count": 18,
     "metadata": {},
     "output_type": "execute_result"
    },
    {
     "data": {
      "image/png": "[encoded data removed]",
      "text/plain": [
       "<Figure size 432x288 with 1 Axes>"
      ]
     },
     "metadata": {
      "needs_background": "light"
     },
     "output_type": "display_data"
    },
    {
     "data": {
      "image/png": "[encoded data removed]",
      "text/plain": [
       "<Figure size 432x288 with 1 Axes>"
      ]
     },
     "metadata": {
      "needs_background": "light"
     },
     "output_type": "display_data"
    }
   ],
   "source": [
    "with open('history.json', 'w') as f:\n",
    "    json.dump(history.history, f)\n",
    "\n",
    "history_df = pd.DataFrame(history.history)\n",
    "history_df[['loss', 'val_loss']].plot()\n",
    "history_df[['acc', 'val_acc']].plot()"
   ]
  },
  {
   "cell_type": "code",
   "execution_count": 19,
   "metadata": {},
   "outputs": [
    {
     "name": "stdout",
     "output_type": "stream",
     "text": [
      "_________________________________________________________________\n",
      "Layer (type)                 Output Shape              Param #   \n",
      "=================================================================\n",
      "input_2 (InputLayer)         (None, 32, 32, 3)         0         \n",
      "_________________________________________________________________\n",
      "block1_conv1 (Conv2D)        (None, 32, 32, 64)        1792      \n",
      "_________________________________________________________________\n",
      "block1_conv2 (Conv2D)        (None, 32, 32, 64)        36928     \n",
      "_________________________________________________________________\n",
      "block1_pool (MaxPooling2D)   (None, 16, 16, 64)        0         \n",
      "_________________________________________________________________\n",
      "block2_conv1 (Conv2D)        (None, 16, 16, 128)       73856     \n",
      "_________________________________________________________________\n",
      "block2_conv2 (Conv2D)        (None, 16, 16, 128)       147584    \n",
      "_________________________________________________________________\n",
      "block2_pool (MaxPooling2D)   (None, 8, 8, 128)         0         \n",
      "_________________________________________________________________\n",
      "block3_conv1 (Conv2D)        (None, 8, 8, 256)         295168    \n",
      "_________________________________________________________________\n",
      "block3_conv2 (Conv2D)        (None, 8, 8, 256)         590080    \n",
      "_________________________________________________________________\n",
      "block3_conv3 (Conv2D)        (None, 8, 8, 256)         590080    \n",
      "_________________________________________________________________\n",
      "block3_pool (MaxPooling2D)   (None, 4, 4, 256)         0         \n",
      "_________________________________________________________________\n",
      "block4_conv1 (Conv2D)        (None, 4, 4, 512)         1180160   \n",
      "_________________________________________________________________\n",
      "block4_conv2 (Conv2D)        (None, 4, 4, 512)         2359808   \n",
      "_________________________________________________________________\n",
      "block4_conv3 (Conv2D)        (None, 4, 4, 512)         2359808   \n",
      "_________________________________________________________________\n",
      "block4_pool (MaxPooling2D)   (None, 2, 2, 512)         0         \n",
      "_________________________________________________________________\n",
      "block5_conv1 (Conv2D)        (None, 2, 2, 512)         2359808   \n",
      "_________________________________________________________________\n",
      "block5_conv2 (Conv2D)        (None, 2, 2, 512)         2359808   \n",
      "_________________________________________________________________\n",
      "block5_conv3 (Conv2D)        (None, 2, 2, 512)         2359808   \n",
      "_________________________________________________________________\n",
      "block5_pool (MaxPooling2D)   (None, 1, 1, 512)         0         \n",
      "=================================================================\n",
      "Total params: 14,714,688\n",
      "Trainable params: 0\n",
      "Non-trainable params: 14,714,688\n",
      "_________________________________________________________________\n"
     ]
    }
   ],
   "source": [
    "vgg16_full = VGG16(weights='imagenet', \n",
    "                  include_top=False, \n",
    "                  input_shape=(32, 32, 3))\n",
    "vgg16_full.trainable = False\n",
    "vgg16_full.summary()"
   ]
  },
  {
   "cell_type": "code",
   "execution_count": 20,
   "metadata": {},
   "outputs": [],
   "source": [
    "model1 = Sequential()\n",
    "model1.add(vgg16_full)\n",
    "model1.add(Flatten())\n",
    "model1.add(Dense(1))\n",
    "model1.add(Activation('sigmoid'))\n",
    "model1.compile(loss='binary_crossentropy',\n",
    "              optimizer=Adam(lr=1e-4), \n",
    "              metrics=['accuracy'])"
   ]
  },
  {
   "cell_type": "code",
   "execution_count": 21,
   "metadata": {},
   "outputs": [
    {
     "name": "stdout",
     "output_type": "stream",
     "text": [
      "Train on 15750 samples, validate on 1750 samples\n",
      "Epoch 1/25\n",
      " - 93s - loss: 0.5777 - acc: 0.7065 - val_loss: 0.5126 - val_acc: 0.7463\n",
      "Epoch 2/25\n",
      " - 100s - loss: 0.4655 - acc: 0.7528 - val_loss: 0.4375 - val_acc: 0.7526\n",
      "Epoch 3/25\n",
      " - 97s - loss: 0.4040 - acc: 0.7747 - val_loss: 0.3850 - val_acc: 0.7943\n",
      "Epoch 4/25\n",
      " - 97s - loss: 0.3596 - acc: 0.8270 - val_loss: 0.3462 - val_acc: 0.8566\n",
      "Epoch 5/25\n",
      " - 97s - loss: 0.3262 - acc: 0.8769 - val_loss: 0.3163 - val_acc: 0.8874\n",
      "Epoch 6/25\n",
      " - 97s - loss: 0.2999 - acc: 0.9020 - val_loss: 0.2920 - val_acc: 0.9149\n",
      "Epoch 7/25\n",
      " - 96s - loss: 0.2785 - acc: 0.9204 - val_loss: 0.2722 - val_acc: 0.9251\n",
      "Epoch 8/25\n",
      " - 97s - loss: 0.2608 - acc: 0.9276 - val_loss: 0.2557 - val_acc: 0.9297\n",
      "Epoch 9/25\n",
      " - 97s - loss: 0.2460 - acc: 0.9333 - val_loss: 0.2417 - val_acc: 0.9331\n",
      "Epoch 10/25\n",
      " - 97s - loss: 0.2334 - acc: 0.9355 - val_loss: 0.2300 - val_acc: 0.9343\n",
      "Epoch 11/25\n",
      " - 96s - loss: 0.2226 - acc: 0.9383 - val_loss: 0.2197 - val_acc: 0.9406\n",
      "Epoch 12/25\n",
      " - 97s - loss: 0.2132 - acc: 0.9401 - val_loss: 0.2106 - val_acc: 0.9451\n",
      "Epoch 13/25\n",
      " - 97s - loss: 0.2050 - acc: 0.9422 - val_loss: 0.2028 - val_acc: 0.9469\n",
      "Epoch 14/25\n",
      " - 97s - loss: 0.1977 - acc: 0.9434 - val_loss: 0.1954 - val_acc: 0.9463\n",
      "Epoch 15/25\n",
      " - 97s - loss: 0.1914 - acc: 0.9446 - val_loss: 0.1893 - val_acc: 0.9469\n",
      "Epoch 16/25\n",
      " - 96s - loss: 0.1856 - acc: 0.9462 - val_loss: 0.1845 - val_acc: 0.9486\n",
      "Epoch 17/25\n",
      " - 97s - loss: 0.1806 - acc: 0.9471 - val_loss: 0.1785 - val_acc: 0.9491\n",
      "Epoch 18/25\n",
      " - 97s - loss: 0.1761 - acc: 0.9479 - val_loss: 0.1742 - val_acc: 0.9509\n",
      "Epoch 19/25\n",
      " - 97s - loss: 0.1719 - acc: 0.9484 - val_loss: 0.1700 - val_acc: 0.9526\n",
      "Epoch 20/25\n",
      " - 97s - loss: 0.1682 - acc: 0.9494 - val_loss: 0.1667 - val_acc: 0.9543\n",
      "Epoch 21/25\n",
      " - 97s - loss: 0.1648 - acc: 0.9496 - val_loss: 0.1629 - val_acc: 0.9531\n",
      "Epoch 22/25\n",
      " - 97s - loss: 0.1618 - acc: 0.9499 - val_loss: 0.1600 - val_acc: 0.9537\n",
      "Epoch 23/25\n",
      " - 97s - loss: 0.1589 - acc: 0.9505 - val_loss: 0.1573 - val_acc: 0.9543\n",
      "Epoch 24/25\n",
      " - 97s - loss: 0.1562 - acc: 0.9509 - val_loss: 0.1544 - val_acc: 0.9531\n",
      "Epoch 25/25\n",
      " - 125s - loss: 0.1538 - acc: 0.9514 - val_loss: 0.1522 - val_acc: 0.9549\n",
      "CPU times: user 2h 31min 43s, sys: 27.4 s, total: 2h 32min 10s\n",
      "Wall time: 40min 45s\n"
     ]
    }
   ],
   "source": [
    "%%time\n",
    "# Train model\n",
    "history1 = model1.fit(X_tr, Y_tr,\n",
    "              batch_size=batch_size,\n",
    "              epochs=nb_epoch,\n",
    "              validation_split=0.1,\n",
    "              shuffle=True,\n",
    "              verbose=2)"
   ]
  },
  {
   "cell_type": "code",
   "execution_count": 65,
   "metadata": {
    "scrolled": true
   },
   "outputs": [
    {
     "name": "stdout",
     "output_type": "stream",
     "text": [
      "_________________________________________________________________\n",
      "Layer (type)                 Output Shape              Param #   \n",
      "=================================================================\n",
      "vgg16 (Model)                (None, 1, 1, 512)         14714688  \n",
      "_________________________________________________________________\n",
      "flatten_6 (Flatten)          (None, 512)               0         \n",
      "_________________________________________________________________\n",
      "dense_12 (Dense)             (None, 256)               131328    \n",
      "_________________________________________________________________\n",
      "activation_62 (Activation)   (None, 256)               0         \n",
      "_________________________________________________________________\n",
      "dropout_5 (Dropout)          (None, 256)               0         \n",
      "_________________________________________________________________\n",
      "dense_13 (Dense)             (None, 1)                 257       \n",
      "_________________________________________________________________\n",
      "activation_63 (Activation)   (None, 1)                 0         \n",
      "=================================================================\n",
      "Total params: 14,846,273\n",
      "Trainable params: 131,585\n",
      "Non-trainable params: 14,714,688\n",
      "_________________________________________________________________\n"
     ]
    }
   ],
   "source": [
    "model.summary()"
   ]
  },
  {
   "cell_type": "code",
   "execution_count": 66,
   "metadata": {},
   "outputs": [
    {
     "name": "stdout",
     "output_type": "stream",
     "text": [
      "_________________________________________________________________\n",
      "Layer (type)                 Output Shape              Param #   \n",
      "=================================================================\n",
      "vgg16 (Model)                (None, 1, 1, 512)         14714688  \n",
      "_________________________________________________________________\n",
      "flatten_7 (Flatten)          (None, 512)               0         \n",
      "_________________________________________________________________\n",
      "dense_14 (Dense)             (None, 1)                 513       \n",
      "_________________________________________________________________\n",
      "activation_64 (Activation)   (None, 1)                 0         \n",
      "=================================================================\n",
      "Total params: 14,715,201\n",
      "Trainable params: 513\n",
      "Non-trainable params: 14,714,688\n",
      "_________________________________________________________________\n"
     ]
    }
   ],
   "source": [
    "model1.summary()"
   ]
  }
 ],
 "metadata": {
  "kernelspec": {
   "display_name": "Python 3",
   "language": "python",
   "name": "python3"
  },
  "language_info": {
   "codemirror_mode": {
    "name": "ipython",
    "version": 3
   },
   "file_extension": ".py",
   "mimetype": "text/x-python",
   "name": "python",
   "nbconvert_exporter": "python",
   "pygments_lexer": "ipython3",
   "version": "3.7.2"
  }
 },
 "nbformat": 4,
 "nbformat_minor": 2
}
